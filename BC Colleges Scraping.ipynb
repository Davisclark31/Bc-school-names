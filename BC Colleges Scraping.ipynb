{
 "cells": [
  {
   "cell_type": "code",
   "execution_count": 1,
   "metadata": {},
   "outputs": [],
   "source": [
    "url = \"https://www.masterstudies.ca/universities/Canada/British-Columbia/\""
   ]
  },
  {
   "cell_type": "code",
   "execution_count": 2,
   "metadata": {},
   "outputs": [],
   "source": [
    "import numpy as np\n",
    "import pandas as pd\n",
    "import requests\n",
    "from bs4 import BeautifulSoup"
   ]
  },
  {
   "cell_type": "code",
   "execution_count": 3,
   "metadata": {},
   "outputs": [],
   "source": [
    "r = requests.get(url)"
   ]
  },
  {
   "cell_type": "code",
   "execution_count": 4,
   "metadata": {},
   "outputs": [],
   "source": [
    "soup = BeautifulSoup(r.text, \"html.parser\")"
   ]
  },
  {
   "cell_type": "code",
   "execution_count": 5,
   "metadata": {
    "scrolled": true
   },
   "outputs": [
    {
     "data": {
      "text/plain": [
       "[<h4 class=\"primary-text\">University Canada West (UCW)</h4>,\n",
       " <h4 class=\"primary-text\">University Canada West (UCW)</h4>,\n",
       " <h4 class=\"primary-text\">Oxford International English Schools</h4>,\n",
       " <h4 class=\"primary-text\">Oxford International English Schools</h4>,\n",
       " <h4 class=\"primary-text\">Oxford International Juniors</h4>,\n",
       " <h4 class=\"primary-text\">Oxford International Juniors</h4>,\n",
       " <h4 class=\"primary-text\">LaSalle College Vancouver</h4>,\n",
       " <h4 class=\"primary-text\">LaSalle College Vancouver</h4>,\n",
       " <h4 class=\"primary-text\">Simon Fraser University - Beedie School of Business</h4>,\n",
       " <h4 class=\"primary-text\">Simon Fraser University - Beedie School of Business</h4>,\n",
       " <h4 class=\"primary-text\">Yorkville University</h4>,\n",
       " <h4 class=\"primary-text\">Yorkville University</h4>,\n",
       " <h4 class=\"primary-text\">University of British Columbia - Faculty of Applied Science</h4>,\n",
       " <h4 class=\"primary-text\">University of British Columbia - Faculty of Applied Science</h4>,\n",
       " <h4 class=\"primary-text\">Alexander College</h4>,\n",
       " <h4 class=\"primary-text\">Alexander College</h4>,\n",
       " <h4 class=\"primary-text\">Northeastern University Canada</h4>,\n",
       " <h4 class=\"primary-text\">Northeastern University Canada</h4>,\n",
       " <h4 class=\"primary-text\">VGC International College</h4>,\n",
       " <h4 class=\"primary-text\">VGC International College</h4>,\n",
       " <h4 class=\"primary-text\">Gateway College</h4>,\n",
       " <h4 class=\"primary-text\">Gateway College</h4>,\n",
       " <h4 class=\"primary-text\">Langara Centre for Entertainment Arts</h4>,\n",
       " <h4 class=\"primary-text\">Langara Centre for Entertainment Arts</h4>,\n",
       " <h4 class=\"primary-text\">New York Institute of Technology (NYIT)</h4>,\n",
       " <h4 class=\"primary-text\">New York Institute of Technology (NYIT)</h4>,\n",
       " <h4 class=\"primary-text\">MyStay ENGLISH</h4>,\n",
       " <h4 class=\"primary-text\">MyStay ENGLISH</h4>,\n",
       " <h4 class=\"primary-text\">Kelowna College of Professional Counselling</h4>,\n",
       " <h4 class=\"primary-text\">Kelowna College of Professional Counselling</h4>,\n",
       " <h4 class=\"primary-text\">Stenberg College</h4>,\n",
       " <h4 class=\"primary-text\">Stenberg College</h4>,\n",
       " <h4 class=\"primary-text\">Royal Roads University</h4>,\n",
       " <h4 class=\"primary-text\">Royal Roads University</h4>,\n",
       " <h4 class=\"primary-text\">Languages Across Borders | Vancouver</h4>,\n",
       " <h4 class=\"primary-text\">Languages Across Borders | Vancouver</h4>,\n",
       " <h4 class=\"primary-text\">Vancouver School of Theology</h4>,\n",
       " <h4 class=\"primary-text\">Vancouver School of Theology</h4>,\n",
       " <h4 class=\"primary-text\">Canadian College</h4>,\n",
       " <h4 class=\"primary-text\">Canadian College</h4>,\n",
       " <h4 class=\"primary-text\">Fairleigh Dickinson University, Vancouver Campus</h4>,\n",
       " <h4 class=\"primary-text\">Fairleigh Dickinson University, Vancouver Campus</h4>,\n",
       " <h4 class=\"primary-text\">The Centre for Digital Media - The CDM</h4>,\n",
       " <h4 class=\"primary-text\">The Centre for Digital Media - The CDM</h4>,\n",
       " <h4 class=\"primary-text\">College of the Rockies</h4>,\n",
       " <h4 class=\"primary-text\">College of the Rockies</h4>,\n",
       " <h4 class=\"primary-text\">Centre for Arts and Technology</h4>,\n",
       " <h4 class=\"primary-text\">Centre for Arts and Technology</h4>,\n",
       " <h4 class=\"primary-text\">Create Career College</h4>,\n",
       " <h4 class=\"primary-text\">Create Career College</h4>,\n",
       " <h4 class=\"primary-text\">Canada International Royal Arts College</h4>,\n",
       " <h4 class=\"primary-text\">Canada International Royal Arts College</h4>,\n",
       " <h4 class=\"primary-text\">Institute of Technology Development of Canada</h4>,\n",
       " <h4 class=\"primary-text\">Institute of Technology Development of Canada</h4>,\n",
       " <h4 class=\"primary-text\">The Language Gallery in Canada</h4>,\n",
       " <h4 class=\"primary-text\">The Language Gallery in Canada</h4>,\n",
       " <h4 class=\"primary-text\">Focus College</h4>,\n",
       " <h4 class=\"primary-text\">Focus College</h4>,\n",
       " <h4 class=\"primary-text\">RED Academy</h4>,\n",
       " <h4 class=\"primary-text\">RED Academy</h4>,\n",
       " <h4 class=\"primary-text\">Canadian College Of Massage &amp; Hydrotherapy</h4>,\n",
       " <h4 class=\"primary-text\">Canadian College Of Massage &amp; Hydrotherapy</h4>,\n",
       " <h4 class=\"primary-text\">Greystone College</h4>,\n",
       " <h4 class=\"primary-text\">Greystone College</h4>,\n",
       " <h4 class=\"primary-text\">Aveda Institute Canada</h4>,\n",
       " <h4 class=\"primary-text\">Aveda Institute Canada</h4>,\n",
       " <h4 class=\"primary-text\">Gaia Education</h4>,\n",
       " <h4 class=\"primary-text\">Gaia Education</h4>,\n",
       " <h4 class=\"primary-text\">Camber College</h4>,\n",
       " <h4 class=\"primary-text\">Camber College</h4>,\n",
       " <h4 class=\"primary-text\">Morgan International</h4>,\n",
       " <h4 class=\"primary-text\">Morgan International</h4>,\n",
       " <h4 class=\"primary-text\">Think Tank Training Centre</h4>,\n",
       " <h4 class=\"primary-text\">Think Tank Training Centre</h4>,\n",
       " <h4 class=\"primary-text\">Via Training Centre</h4>,\n",
       " <h4 class=\"primary-text\">Via Training Centre</h4>,\n",
       " <h4 class=\"primary-text\">EC Language Centres</h4>,\n",
       " <h4 class=\"primary-text\">EC Language Centres</h4>,\n",
       " <h4 class=\"primary-text\">Executive Hotel Management College</h4>,\n",
       " <h4 class=\"primary-text\">Executive Hotel Management College</h4>,\n",
       " <h4 class=\"primary-text\">NYIT - Vancouver</h4>,\n",
       " <h4 class=\"primary-text\">NYIT - Vancouver</h4>,\n",
       " <h4 class=\"primary-text\">VanArts</h4>,\n",
       " <h4 class=\"primary-text\">VanArts</h4>,\n",
       " <h4 class=\"primary-text\">Pacific Rim College</h4>,\n",
       " <h4 class=\"primary-text\">Pacific Rim College</h4>,\n",
       " <h4 class=\"primary-text\">{{ school._source.title }}</h4>,\n",
       " <h4 class=\"primary-text\">{{ school._source.title }}</h4>]"
      ]
     },
     "execution_count": 5,
     "metadata": {},
     "output_type": "execute_result"
    }
   ],
   "source": [
    "soup.find_all(\"h4\",attrs = \"primary-text\")"
   ]
  },
  {
   "cell_type": "code",
   "execution_count": 6,
   "metadata": {},
   "outputs": [],
   "source": [
    "s = soup.find_all(\"h4\",attrs = \"primary-text\")"
   ]
  },
  {
   "cell_type": "code",
   "execution_count": 7,
   "metadata": {},
   "outputs": [],
   "source": [
    "s = list(set(s))"
   ]
  },
  {
   "cell_type": "code",
   "execution_count": 8,
   "metadata": {},
   "outputs": [],
   "source": [
    "l = []\n",
    "for i in s:\n",
    "    l.append(i.text)"
   ]
  },
  {
   "cell_type": "code",
   "execution_count": 9,
   "metadata": {},
   "outputs": [
    {
     "data": {
      "text/plain": [
       "['Yorkville University',\n",
       " 'College of the Rockies',\n",
       " 'The Centre for Digital Media - The CDM',\n",
       " 'Focus College',\n",
       " 'Create Career College',\n",
       " 'Morgan International',\n",
       " 'RED Academy',\n",
       " '{{ school._source.title }}',\n",
       " 'Aveda Institute Canada',\n",
       " 'New York Institute of Technology (NYIT)',\n",
       " 'Oxford International English Schools',\n",
       " 'NYIT - Vancouver',\n",
       " 'Institute of Technology Development of Canada',\n",
       " 'Camber College',\n",
       " 'VGC International College',\n",
       " 'Alexander College',\n",
       " 'Canada International Royal Arts College',\n",
       " 'MyStay ENGLISH',\n",
       " 'Simon Fraser University - Beedie School of Business',\n",
       " 'Stenberg College',\n",
       " 'The Language Gallery in Canada',\n",
       " 'Northeastern University Canada',\n",
       " 'Langara Centre for Entertainment Arts',\n",
       " 'Oxford International Juniors',\n",
       " 'Canadian College Of Massage & Hydrotherapy',\n",
       " 'VanArts',\n",
       " 'Canadian College',\n",
       " 'Pacific Rim College',\n",
       " 'Think Tank Training Centre',\n",
       " 'EC Language Centres',\n",
       " 'Greystone College',\n",
       " 'Executive Hotel Management College',\n",
       " 'Via Training Centre',\n",
       " 'Kelowna College of Professional Counselling',\n",
       " 'Gateway College',\n",
       " 'LaSalle College Vancouver',\n",
       " 'University of British Columbia - Faculty of Applied Science',\n",
       " 'Fairleigh Dickinson University, Vancouver Campus',\n",
       " 'Gaia Education',\n",
       " 'Centre for Arts and Technology',\n",
       " 'Royal Roads University',\n",
       " 'University Canada West (UCW)',\n",
       " 'Vancouver School of Theology',\n",
       " 'Languages Across Borders | Vancouver']"
      ]
     },
     "execution_count": 9,
     "metadata": {},
     "output_type": "execute_result"
    }
   ],
   "source": [
    "l"
   ]
  },
  {
   "cell_type": "code",
   "execution_count": null,
   "metadata": {},
   "outputs": [],
   "source": []
  }
 ],
 "metadata": {
  "kernelspec": {
   "display_name": "Python 3",
   "language": "python",
   "name": "python3"
  },
  "language_info": {
   "codemirror_mode": {
    "name": "ipython",
    "version": 3
   },
   "file_extension": ".py",
   "mimetype": "text/x-python",
   "name": "python",
   "nbconvert_exporter": "python",
   "pygments_lexer": "ipython3",
   "version": "3.7.4"
  }
 },
 "nbformat": 4,
 "nbformat_minor": 4
}
